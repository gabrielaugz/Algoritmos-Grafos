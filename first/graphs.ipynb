{
 "cells": [
  {
   "cell_type": "markdown",
   "id": "4016f1db",
   "metadata": {},
   "source": [
    "# 📊 Análise de Grafos Complexos\n",
    "Este notebook executa o código do projeto passo a passo."
   ]
  },
  {
   "cell_type": "code",
   "execution_count": null,
   "id": "bb11d096",
   "metadata": {},
   "outputs": [],
   "source": [
    "from graph import grafo_simples, grafo_direcionado, grafo_barabasi_albert, grafo_random, grafo_small_world\n",
    "from metrics import calcular_metricas, metricas_globais, propriedades_estruturais\n",
    "from view import mostrar_grafo, plotar_distribuicao_de_grau, mostrar_centro"
   ]
  },
  {
   "cell_type": "code",
   "execution_count": null,
   "id": "e818dd1f",
   "metadata": {},
   "outputs": [],
   "source": [
    "def executar_analise(grafo, nome, plotar_grau=False):\n",
    "    print(f\"\\n=== {nome} ===\")\n",
    "    \n",
    "    mostrar_grafo(grafo, nome)\n",
    "    \n",
    "    print(\"\\nMétricas locais:\")\n",
    "    display(calcular_metricas(grafo))\n",
    "\n",
    "    print(\"\\nMétricas globais:\")\n",
    "    print(metricas_globais(grafo))\n",
    "\n",
    "    print(\"\\nPropriedades estruturais:\")\n",
    "    print(propriedades_estruturais(grafo))\n",
    "\n",
    "    mostrar_centro(grafo, f\"Centro - {nome}\")\n",
    "\n",
    "    if plotar_grau:\n",
    "        plotar_distribuicao_de_grau(grafo, f\"Distribuição de Grau - {nome}\")"
   ]
  },
  {
   "cell_type": "markdown",
   "id": "16270ee8",
   "metadata": {},
   "source": [
    "## 🔧 Geração dos grafos para análise"
   ]
  },
  {
   "cell_type": "code",
   "execution_count": null,
   "id": "45b924e2",
   "metadata": {},
   "outputs": [],
   "source": [
    "G1 = grafo_simples()\n",
    "G2 = grafo_direcionado()\n",
    "G3 = grafo_barabasi_albert()\n",
    "G4 = grafo_random()\n",
    "G5 = grafo_small_world()"
   ]
  },
  {
   "cell_type": "markdown",
   "id": "88375607",
   "metadata": {},
   "source": [
    "## 📈 Análise de cada grafo"
   ]
  },
  {
   "cell_type": "code",
   "execution_count": null,
   "id": "ecf639a1",
   "metadata": {},
   "outputs": [],
   "source": [
    "executar_analise(G1, \"Grafo Simples\")"
   ]
  },
  {
   "cell_type": "code",
   "execution_count": null,
   "id": "56d128cd",
   "metadata": {},
   "outputs": [],
   "source": [
    "executar_analise(G2, \"Grafo Direcionado\")"
   ]
  },
  {
   "cell_type": "code",
   "execution_count": null,
   "id": "59ba8247",
   "metadata": {},
   "outputs": [],
   "source": [
    "executar_analise(G3, \"Grafo Barabási-Albert\", plotar_grau=True)"
   ]
  },
  {
   "cell_type": "code",
   "execution_count": null,
   "id": "41dfa8d2",
   "metadata": {},
   "outputs": [],
   "source": [
    "executar_analise(G4, \"Grafo Erdős–Rényi (Random)\", plotar_grau=True)"
   ]
  },
  {
   "cell_type": "code",
   "execution_count": null,
   "id": "6b6b2a23",
   "metadata": {},
   "outputs": [],
   "source": [
    "executar_analise(G5, \"Grafo Watts–Strogatz (Small-world)\")"
   ]
  }
 ],
 "metadata": {
  "language_info": {
   "name": "python"
  }
 },
 "nbformat": 4,
 "nbformat_minor": 5
}
