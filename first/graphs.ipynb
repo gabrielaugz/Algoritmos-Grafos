{
 "cells": [
  {
   "cell_type": "markdown",
   "id": "4016f1db",
   "metadata": {},
   "source": [
    "# 📊 Análise de Grafos Complexos\n",
    "\n",
    "Gabriel Augusto\n",
    "\n",
    "Algoritmos Avançados de Grafos\n",
    "\n",
    "---\n",
    "\n",
    "Este notebook demonstra a criação, visualização e análise de diferentes modelos de grafos.\n",
    "\n",
    "📌 **Objetivos**:\n",
    "- Construir diferentes tipos de grafos (manuais e modelos)\n",
    "- Calcular métricas locais, globais e estruturais\n",
    "- Visualizar a estrutura dos grafos e suas propriedades"
   ]
  },
  {
   "cell_type": "markdown",
   "id": "e1e55b50",
   "metadata": {},
   "source": [
    "## 🛠️ Instalação de Bibliotecas"
   ]
  },
  {
   "cell_type": "code",
   "execution_count": null,
   "id": "01385dbb",
   "metadata": {},
   "outputs": [],
   "source": [
    "import sys\n",
    "!{sys.executable} -m pip install networkx matplotlib pandas random"
   ]
  },
  {
   "cell_type": "markdown",
   "id": "f73b5c12",
   "metadata": {},
   "source": [
    "## 📥 Importação de Módulos e Funções"
   ]
  },
  {
   "cell_type": "code",
   "execution_count": 28,
   "id": "bb11d096",
   "metadata": {},
   "outputs": [],
   "source": [
    "from graph import grafo_simples, grafo_direcionado, grafo_barabasi_albert, grafo_random, grafo_small_world\n",
    "from metrics import calcular_metricas, metricas_globais, propriedades_estruturais\n",
    "from view import mostrar_grafo, plotar_distribuicao_de_grau, mostrar_centro"
   ]
  },
  {
   "cell_type": "markdown",
   "id": "af384e04",
   "metadata": {},
   "source": [
    "## ⚙️ Função de Análise Completa\n",
    "\n",
    "Esta função encapsula todas as etapas para análise e visualização de um grafo."
   ]
  },
  {
   "cell_type": "code",
   "execution_count": 29,
   "id": "e818dd1f",
   "metadata": {},
   "outputs": [],
   "source": [
    "def executar_analise(grafo, nome, plotar_grau=False):\n",
    "    print(f\"\\n=== {nome} ===\")\n",
    "    \n",
    "    mostrar_grafo(grafo, nome)\n",
    "    \n",
    "    print(\"\\nMétricas locais:\")\n",
    "    display(calcular_metricas(grafo))\n",
    "\n",
    "    print(\"\\nMétricas globais:\")\n",
    "    print(metricas_globais(grafo))\n",
    "\n",
    "    print(\"\\nPropriedades estruturais:\")\n",
    "    print(propriedades_estruturais(grafo))\n",
    "\n",
    "    mostrar_centro(grafo, f\"Centro - {nome}\")\n",
    "\n",
    "    if plotar_grau:\n",
    "        plotar_distribuicao_de_grau(grafo, f\"Distribuição de Grau - {nome}\")"
   ]
  },
  {
   "cell_type": "markdown",
   "id": "16270ee8",
   "metadata": {},
   "source": [
    "## 🔧 Geração dos grafos para análise"
   ]
  },
  {
   "cell_type": "code",
   "execution_count": null,
   "id": "45b924e2",
   "metadata": {},
   "outputs": [],
   "source": [
    "G1 = grafo_simples()\n",
    "G2 = grafo_direcionado()\n",
    "G3 = grafo_barabasi_albert()\n",
    "G4 = grafo_random()\n",
    "G5 = grafo_small_world()"
   ]
  },
  {
   "cell_type": "markdown",
   "id": "88375607",
   "metadata": {},
   "source": [
    "## 📈 Análise de cada grafo"
   ]
  },
  {
   "cell_type": "markdown",
   "id": "c02d724f",
   "metadata": {},
   "source": [
    "### 🔹 Grafo Simples\n",
    "Grafo manual e não direcionado com 5 nós. Usado para validação de métricas básicas."
   ]
  },
  {
   "cell_type": "code",
   "execution_count": null,
   "id": "ecf639a1",
   "metadata": {},
   "outputs": [],
   "source": [
    "executar_analise(G1, \"Grafo Simples\")"
   ]
  },
  {
   "cell_type": "markdown",
   "id": "a60db90b",
   "metadata": {},
   "source": [
    "### 🔁 Grafo Direcionado\n",
    "\n",
    "Grafo com arestas direcionadas. Muito útil para representar fluxos de informação ou redes com assimetria de conexão (ex.: web e tráfego urbano)."
   ]
  },
  {
   "cell_type": "code",
   "execution_count": null,
   "id": "56d128cd",
   "metadata": {},
   "outputs": [],
   "source": [
    "executar_analise(G2, \"Grafo Direcionado\")"
   ]
  },
  {
   "cell_type": "markdown",
   "id": "55bc5ba3",
   "metadata": {},
   "source": [
    "### 🔹 Grafo Barabási-Albert\n",
    "\n",
    "Modelo de rede scale-free com hubs centrais. Espera-se distribuição de grau em power law."
   ]
  },
  {
   "cell_type": "code",
   "execution_count": null,
   "id": "59ba8247",
   "metadata": {},
   "outputs": [],
   "source": [
    "executar_analise(G3, \"Grafo Barabási-Albert\", plotar_grau=True)"
   ]
  },
  {
   "cell_type": "markdown",
   "id": "c15ae276",
   "metadata": {},
   "source": [
    "### 🎲 Grafo Erdős–Rényi (Random)\n",
    "\n",
    "Modelo de rede aleatória com probabilidade fixa de conexão entre pares de nós. Espera-se uma distribuição de grau próxima à Poisson."
   ]
  },
  {
   "cell_type": "code",
   "execution_count": null,
   "id": "41dfa8d2",
   "metadata": {},
   "outputs": [],
   "source": [
    "executar_analise(G4, \"Grafo Erdős–Rényi (Random)\", plotar_grau=True)"
   ]
  },
  {
   "cell_type": "markdown",
   "id": "2befb028",
   "metadata": {},
   "source": [
    "### 🌐 Grafo Watts–Strogatz (Small-world)\n",
    "\n",
    "Modelo que combina propriedades de redes regulares e aleatórias. Apresenta alto clustering e baixo comprimento médio de caminho, típico de redes sociais e sistemas naturais."
   ]
  },
  {
   "cell_type": "code",
   "execution_count": null,
   "id": "6b6b2a23",
   "metadata": {},
   "outputs": [],
   "source": [
    "executar_analise(G5, \"Grafo Watts–Strogatz (Small-world)\")"
   ]
  },
  {
   "cell_type": "markdown",
   "id": "15102d51",
   "metadata": {},
   "source": [
    "## ✅ Conclusões\n",
    "\n",
    "- Os diferentes modelos de grafos geram topologias distintas (graus, centro, caminho médio).\n",
    "- O modelo Barabási-Albert apresenta hubs, típicos de redes sociais.\n",
    "- O modelo Erdős–Rényi mostra uma distribuição mais aleatória (distribuição de grau próxima à Poisson).\n",
    "- As visualizações ajudaram a entender e verificar as métricas estruturais observadas.\n",
    "\n",
    "---\n",
    "\n",
    "📌 Todas as análises foram feitas utilizando `networkx`, `matplotlib` e `pandas`."
   ]
  },
  {
   "cell_type": "code",
   "execution_count": null,
   "id": "0a9541ac",
   "metadata": {},
   "outputs": [],
   "source": [
    "from datetime import datetime\n",
    "print(\"📅 Última execução:\", datetime.now().strftime(\"%d/%m/%Y %H:%M\"))\n"
   ]
  }
 ],
 "metadata": {
  "kernelspec": {
   "display_name": "Python 3",
   "language": "python",
   "name": "python3"
  },
  "language_info": {
   "codemirror_mode": {
    "name": "ipython",
    "version": 3
   },
   "file_extension": ".py",
   "mimetype": "text/x-python",
   "name": "python",
   "nbconvert_exporter": "python",
   "pygments_lexer": "ipython3",
   "version": "3.12.9"
  }
 },
 "nbformat": 4,
 "nbformat_minor": 5
}
